{
 "cells": [
  {
   "cell_type": "code",
   "execution_count": 1,
   "metadata": {
    "colab": {
     "base_uri": "https://localhost:8080/",
     "height": 418
    },
    "executionInfo": {
     "elapsed": 1074,
     "status": "error",
     "timestamp": 1701861210115,
     "user": {
      "displayName": "Devadarsan. A.M",
      "userId": "06881006032267250894"
     },
     "user_tz": -330
    },
    "id": "B9d6yGkTcXTX",
    "outputId": "a85dd371-69f0-425a-f4aa-ad4fd10899b8"
   },
   "outputs": [
    {
     "ename": "error",
     "evalue": "OpenCV(4.8.1) D:\\a\\opencv-python\\opencv-python\\opencv\\modules\\highgui\\src\\window.cpp:971: error: (-215:Assertion failed) size.width>0 && size.height>0 in function 'cv::imshow'\n",
     "output_type": "error",
     "traceback": [
      "\u001b[1;31m---------------------------------------------------------------------------\u001b[0m",
      "\u001b[1;31merror\u001b[0m                                     Traceback (most recent call last)",
      "\u001b[1;32m~\\AppData\\Local\\Temp\\ipykernel_17540\\4009973549.py\u001b[0m in \u001b[0;36m<module>\u001b[1;34m\u001b[0m\n\u001b[0;32m      2\u001b[0m \u001b[1;32mimport\u001b[0m \u001b[0mnumpy\u001b[0m \u001b[1;32mas\u001b[0m \u001b[0mnp\u001b[0m\u001b[1;33m\u001b[0m\u001b[1;33m\u001b[0m\u001b[0m\n\u001b[0;32m      3\u001b[0m \u001b[0mimage\u001b[0m\u001b[1;33m=\u001b[0m\u001b[0mcv2\u001b[0m\u001b[1;33m.\u001b[0m\u001b[0mimread\u001b[0m\u001b[1;33m(\u001b[0m\u001b[1;34m\"/content/drive/MyDrive/Images/512.jpg\"\u001b[0m\u001b[1;33m)\u001b[0m\u001b[1;33m\u001b[0m\u001b[1;33m\u001b[0m\u001b[0m\n\u001b[1;32m----> 4\u001b[1;33m \u001b[0mcv2\u001b[0m\u001b[1;33m.\u001b[0m\u001b[0mimshow\u001b[0m\u001b[1;33m(\u001b[0m\u001b[1;34m\"original image\"\u001b[0m\u001b[1;33m,\u001b[0m\u001b[0mimage\u001b[0m\u001b[1;33m)\u001b[0m\u001b[1;33m\u001b[0m\u001b[1;33m\u001b[0m\u001b[0m\n\u001b[0m\u001b[0;32m      5\u001b[0m \u001b[0muwidth\u001b[0m\u001b[1;33m=\u001b[0m\u001b[1;36m1024\u001b[0m\u001b[1;33m\u001b[0m\u001b[1;33m\u001b[0m\u001b[0m\n\u001b[0;32m      6\u001b[0m \u001b[0muheight\u001b[0m\u001b[1;33m=\u001b[0m\u001b[1;36m1024\u001b[0m\u001b[1;33m\u001b[0m\u001b[1;33m\u001b[0m\u001b[0m\n",
      "\u001b[1;31merror\u001b[0m: OpenCV(4.8.1) D:\\a\\opencv-python\\opencv-python\\opencv\\modules\\highgui\\src\\window.cpp:971: error: (-215:Assertion failed) size.width>0 && size.height>0 in function 'cv::imshow'\n"
     ]
    }
   ],
   "source": [
    "import cv2\n",
    "import numpy as np\n",
    "image=cv2.imread(\"/content/drive/MyDrive/Images/512.jpg\")\n",
    "cv2.imshow(\"original image\",image)\n",
    "uwidth=1024\n",
    "uheight=1024\n",
    "upoints=(uwidth,uheight)\n",
    "uresized=cv2.resize(image,upoints,interpolation=cv2.INTER_LINEAR)\n",
    "cv2.imshow(\"upscale image\",uresized)"
   ]
  },
  {
   "cell_type": "code",
   "execution_count": 9,
   "metadata": {
    "colab": {
     "base_uri": "https://localhost:8080/",
     "height": 1000
    },
    "executionInfo": {
     "elapsed": 1598,
     "status": "ok",
     "timestamp": 1701861342231,
     "user": {
      "displayName": "Devadarsan. A.M",
      "userId": "06881006032267250894"
     },
     "user_tz": -330
    },
    "id": "cTnxzlk6tGT9",
    "outputId": "a25656b1-f7ff-43a8-88d9-fadd2106fdec"
   },
   "outputs": [
    {
     "ename": "error",
     "evalue": "OpenCV(4.8.1) :-1: error: (-5:Bad argument) in function 'imshow'\n> Overload resolution failed:\n>  - imshow() missing required argument 'mat' (pos 2)\n>  - imshow() missing required argument 'mat' (pos 2)\n>  - imshow() missing required argument 'mat' (pos 2)\n",
     "output_type": "error",
     "traceback": [
      "\u001b[1;31m---------------------------------------------------------------------------\u001b[0m",
      "\u001b[1;31merror\u001b[0m                                     Traceback (most recent call last)",
      "\u001b[1;32m~\\AppData\\Local\\Temp\\ipykernel_17540\\227517713.py\u001b[0m in \u001b[0;36m<module>\u001b[1;34m\u001b[0m\n\u001b[0;32m      3\u001b[0m \u001b[1;33m\u001b[0m\u001b[0m\n\u001b[0;32m      4\u001b[0m \u001b[0mimage\u001b[0m \u001b[1;33m=\u001b[0m \u001b[0mcv2\u001b[0m\u001b[1;33m.\u001b[0m\u001b[0mimread\u001b[0m\u001b[1;33m(\u001b[0m\u001b[1;34mr\"F:\\Icon Detection\\myvenv\\sp_images\\image_row14_col23.png\"\u001b[0m\u001b[1;33m)\u001b[0m\u001b[1;33m\u001b[0m\u001b[1;33m\u001b[0m\u001b[0m\n\u001b[1;32m----> 5\u001b[1;33m \u001b[0mcv2\u001b[0m\u001b[1;33m.\u001b[0m\u001b[0mimshow\u001b[0m\u001b[1;33m(\u001b[0m\u001b[0mimage\u001b[0m\u001b[1;33m)\u001b[0m  \u001b[1;31m# Use cv2_imshow instead of cv2.imshow\u001b[0m\u001b[1;33m\u001b[0m\u001b[1;33m\u001b[0m\u001b[0m\n\u001b[0m\u001b[0;32m      6\u001b[0m \u001b[1;33m\u001b[0m\u001b[0m\n\u001b[0;32m      7\u001b[0m \u001b[0muwidth\u001b[0m \u001b[1;33m=\u001b[0m \u001b[1;36m1024\u001b[0m\u001b[1;33m\u001b[0m\u001b[1;33m\u001b[0m\u001b[0m\n",
      "\u001b[1;31merror\u001b[0m: OpenCV(4.8.1) :-1: error: (-5:Bad argument) in function 'imshow'\n> Overload resolution failed:\n>  - imshow() missing required argument 'mat' (pos 2)\n>  - imshow() missing required argument 'mat' (pos 2)\n>  - imshow() missing required argument 'mat' (pos 2)\n"
     ]
    }
   ],
   "source": [
    "import cv2\n",
    "import numpy as np\n",
    "\n",
    "image = cv2.imread(r\"F:\\Icon Detection\\myvenv\\sp_images\\image_row14_col23.png\")\n",
    "cv2.imshow(image)  # Use cv2_imshow instead of cv2.imshow\n",
    "\n",
    "uwidth = 1024\n",
    "uheight = 1024\n",
    "upoints = (uwidth, uheight)\n",
    "uresized = cv2.resize(image, upoints, interpolation=cv2.INTER_LINEAR)\n",
    "cv2_imshow(uresized)  # Use cv2_imshow here as well\n"
   ]
  },
  {
   "cell_type": "code",
   "execution_count": 8,
   "metadata": {
    "colab": {
     "base_uri": "https://localhost:8080/"
    },
    "executionInfo": {
     "elapsed": 1317,
     "status": "ok",
     "timestamp": 1701862564402,
     "user": {
      "displayName": "Devadarsan. A.M",
      "userId": "06881006032267250894"
     },
     "user_tz": -330
    },
    "id": "3ACiLerE4Zi6",
    "outputId": "1cd266da-fc81-4460-8351-99874246c030"
   },
   "outputs": [
    {
     "name": "stdout",
     "output_type": "stream",
     "text": [
      "Processed and saved: gan1.png\n",
      "Processed and saved: gan2.png\n"
     ]
    }
   ],
   "source": [
    "from google.colab import drive\n",
    "import cv2\n",
    "import os\n",
    "\n",
    "\n",
    "# Define the source and target folders in Google Drive\n",
    "source_folder = '/content/drive/My Drive/Images'  # Adjust the path as needed\n",
    "target_folder = '/content/drive/My Drive/ResizedImages'  # Adjust the path as needed\n",
    "\n",
    "# Create the target folder if it doesn't exist\n",
    "if not os.path.exists(target_folder):\n",
    "    os.makedirs(target_folder)\n",
    "\n",
    "# Desired dimensions\n",
    "uwidth, uheight = 1024, 1024\n",
    "\n",
    "# Process each file in the source folder\n",
    "for filename in os.listdir(source_folder):\n",
    "    if filename.lower().endswith(('.png', '.jpg', '.jpeg')):  # Check for image files\n",
    "        image_path = os.path.join(source_folder, filename)\n",
    "        image = cv2.imread(image_path)\n",
    "\n",
    "        # Resize the image\n",
    "        resized_image = cv2.resize(image, (uwidth, uheight), interpolation=cv2.INTER_LINEAR)\n",
    "\n",
    "        # Save the resized image to the target folder\n",
    "        target_path = os.path.join(target_folder, filename)\n",
    "        cv2.imwrite(target_path, resized_image)\n",
    "        print(f\"Processed and saved: {filename}\")\n"
   ]
  },
  {
   "cell_type": "code",
   "execution_count": null,
   "metadata": {
    "id": "AqzWjJ6t4cv8"
   },
   "outputs": [
    {
     "name": "stdout",
     "output_type": "stream",
     "text": [
      "Resized image saved at: F:\\Icon Detection\\myvenv\\resized_images\\resized_image.png\n"
     ]
    }
   ],
   "source": [
    "import cv2\n",
    "import numpy as np\n",
    "\n",
    "# Load the image from your file path\n",
    "image_path = r\"F:\\Icon Detection\\myvenv\\sp_images\\image_row14_col23.png\"\n",
    "image = cv2.imread(image_path)\n",
    "\n",
    "# Check if the image has been loaded properly\n",
    "if image is not None:\n",
    "    # Resize parameters\n",
    "    uwidth = 1024\n",
    "    uheight = 1024\n",
    "    upoints = (uwidth, uheight)\n",
    "\n",
    "    # Resize the image\n",
    "    uresized = cv2.resize(image, upoints, interpolation=cv2.INTER_LINEAR)\n",
    "\n",
    "    # Define the path where you want to save the resized image\n",
    "    save_path = r\"F:\\Icon Detection\\myvenv\\resized_images\\resized_image.png\"\n",
    "\n",
    "    # Save the resized image\n",
    "    cv2.imwrite(save_path, uresized)\n",
    "    print(f\"Resized image saved at: {save_path}\")\n",
    "\n",
    "    # Display the original and resized images\n",
    "    cv2.imshow('Original Image', image)\n",
    "    cv2.imshow('Resized Image', uresized)\n",
    "    cv2.waitKey(0)  # Wait for a key press to close the windows\n",
    "\n",
    "    cv2.destroyAllWindows()  # Close all OpenCV windows\n",
    "else:\n",
    "    print(\"Error: Image not found or unable to load.\")\n"
   ]
  },
  {
   "cell_type": "code",
   "execution_count": null,
   "metadata": {},
   "outputs": [],
   "source": []
  }
 ],
 "metadata": {
  "accelerator": "GPU",
  "colab": {
   "authorship_tag": "ABX9TyOKZ+TRP2fLSeCC02pMAHsc",
   "gpuType": "T4",
   "mount_file_id": "122woli19vg1WFoV7Yzsz-8Vk6S9YU6z9",
   "provenance": []
  },
  "kernelspec": {
   "display_name": "Python 3 (ipykernel)",
   "language": "python",
   "name": "python3"
  },
  "language_info": {
   "codemirror_mode": {
    "name": "ipython",
    "version": 3
   },
   "file_extension": ".py",
   "mimetype": "text/x-python",
   "name": "python",
   "nbconvert_exporter": "python",
   "pygments_lexer": "ipython3",
   "version": "3.7.16"
  }
 },
 "nbformat": 4,
 "nbformat_minor": 1
}
