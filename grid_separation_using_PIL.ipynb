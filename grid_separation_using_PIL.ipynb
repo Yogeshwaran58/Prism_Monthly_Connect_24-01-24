{
 "cells": [
  {
   "cell_type": "code",
   "execution_count": 2,
   "id": "aa6588bf",
   "metadata": {},
   "outputs": [
    {
     "name": "stdout",
     "output_type": "stream",
     "text": [
      "All sub-images have been extracted and saved.\n"
     ]
    }
   ],
   "source": [
    "from PIL import Image\n",
    "\n",
    "# Load the large image\n",
    "large_image_path = r\"C:\\content\\training-runs41\\00000-gan_dataset_256_latest-auto1-kimg6000-batch16-ada-target0.6-bgcfnc-resumecustom\\fakes002800.png\"  # Update with the path to your large image\n",
    "large_image = Image.open(large_image_path)\n",
    "\n",
    "# Define the size of each sub-image\n",
    "sub_image_size = (256, 256)\n",
    "num_rows = 16\n",
    "num_cols = 30\n",
    "\n",
    "# Loop over the grid and extract each sub-image\n",
    "for row in range(num_rows):\n",
    "    for col in range(num_cols):\n",
    "        # Calculate the bounding box of the sub-image\n",
    "        left = col * sub_image_size[0]\n",
    "        upper = row * sub_image_size[1]\n",
    "        right = left + sub_image_size[0]\n",
    "        lower = upper + sub_image_size[1]\n",
    "        \n",
    "        # Extract the sub-image\n",
    "        sub_image = large_image.crop((left, upper, right, lower))\n",
    "        \n",
    "        # Save the sub-image with a unique name\n",
    "        sub_image_path = f'F:/Icon Detection/myvenv/sp_images/image_row{row}_col{col}.png'\n",
    "        sub_image.save(sub_image_path)\n",
    "\n",
    "print('All sub-images have been extracted and saved.')\n"
   ]
  },
  {
   "cell_type": "code",
   "execution_count": null,
   "id": "5d84bead",
   "metadata": {},
   "outputs": [],
   "source": []
  }
 ],
 "metadata": {
  "kernelspec": {
   "display_name": "Python 3 (ipykernel)",
   "language": "python",
   "name": "python3"
  },
  "language_info": {
   "codemirror_mode": {
    "name": "ipython",
    "version": 3
   },
   "file_extension": ".py",
   "mimetype": "text/x-python",
   "name": "python",
   "nbconvert_exporter": "python",
   "pygments_lexer": "ipython3",
   "version": "3.7.16"
  }
 },
 "nbformat": 4,
 "nbformat_minor": 5
}
